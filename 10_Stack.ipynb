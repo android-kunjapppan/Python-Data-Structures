{
  "nbformat": 4,
  "nbformat_minor": 0,
  "metadata": {
    "colab": {
      "name": "10 Stack.ipynb",
      "provenance": [],
      "authorship_tag": "ABX9TyP1S3WTaSc45HNaFKuRhbue",
      "include_colab_link": true
    },
    "kernelspec": {
      "name": "python3",
      "display_name": "Python 3"
    }
  },
  "cells": [
    {
      "cell_type": "markdown",
      "metadata": {
        "id": "view-in-github",
        "colab_type": "text"
      },
      "source": [
        "<a href=\"https://colab.research.google.com/github/android-kunjapppan/Python-Data-Structures/blob/master/10_Stack.ipynb\" target=\"_parent\"><img src=\"https://colab.research.google.com/assets/colab-badge.svg\" alt=\"Open In Colab\"/></a>"
      ]
    },
    {
      "cell_type": "markdown",
      "metadata": {
        "id": "tGzK8nJ0aLMQ",
        "colab_type": "text"
      },
      "source": [
        "# Stack:  (LIFO)\n",
        "\n",
        "* Arranging objects on over another\n",
        "* Allows operations at one End. ie., Top of the Stack\n",
        "* The element inserted last in the stack will come out first\n",
        "* Operations of adding and removing is known as PUSH and POP\n"
      ]
    },
    {
      "cell_type": "code",
      "metadata": {
        "id": "3oaCLDx8aLAv",
        "colab_type": "code",
        "colab": {}
      },
      "source": [
        "class stack:\n",
        "  def __init__(self):\n",
        "    self.stack = []\n",
        "  \n",
        "  def append(self,data):\n",
        "    if data not in self.stack:\n",
        "      self.stack.append(data)\n",
        "      return True\n",
        "    else:\n",
        "      return False\n",
        "  \n",
        "  def peek(self):\n",
        "    return self.stack[-1]\n",
        "  \n",
        "  def remove(self):\n",
        "    if len(self.stack)<=0:\n",
        "      print(\"No elements in the Stack\")\n",
        "    else:\n",
        "      return self.stack.pop()"
      ],
      "execution_count": 43,
      "outputs": []
    },
    {
      "cell_type": "code",
      "metadata": {
        "id": "SFeqoeqCekDM",
        "colab_type": "code",
        "colab": {}
      },
      "source": [
        "stack = stack()\n"
      ],
      "execution_count": 44,
      "outputs": []
    },
    {
      "cell_type": "code",
      "metadata": {
        "id": "5fRCwDT8e5BS",
        "colab_type": "code",
        "colab": {
          "base_uri": "https://localhost:8080/",
          "height": 34
        },
        "outputId": "57d53024-2bd5-4b95-f646-1e38a472251a"
      },
      "source": [
        "# There's nothing in the stack now\n",
        "stack.remove()"
      ],
      "execution_count": 45,
      "outputs": [
        {
          "output_type": "stream",
          "text": [
            "No elements in the Stack\n"
          ],
          "name": "stdout"
        }
      ]
    },
    {
      "cell_type": "code",
      "metadata": {
        "id": "_MTe2zXefCbW",
        "colab_type": "code",
        "colab": {
          "base_uri": "https://localhost:8080/",
          "height": 34
        },
        "outputId": "e5355b5b-d415-4820-9d0e-0a91f1bae6ba"
      },
      "source": [
        "# Appending elements in the stack\n",
        "stack.append(3)\n",
        "stack.append(4)\n",
        "stack.append(5)\n",
        "\n",
        "# shows the top element in the stack\n",
        "stack.peek()\n"
      ],
      "execution_count": 46,
      "outputs": [
        {
          "output_type": "execute_result",
          "data": {
            "text/plain": [
              "5"
            ]
          },
          "metadata": {
            "tags": []
          },
          "execution_count": 46
        }
      ]
    },
    {
      "cell_type": "code",
      "metadata": {
        "id": "uR5aj3TJfTnH",
        "colab_type": "code",
        "colab": {
          "base_uri": "https://localhost:8080/",
          "height": 34
        },
        "outputId": "0b6c10ec-18fe-44ae-b7ad-5accaa67d912"
      },
      "source": [
        "# Removes the top element in the stack\n",
        "stack.remove()\n",
        "\n",
        "# Now it shows the last but one element as the last element as been removed\n",
        "stack.peek()"
      ],
      "execution_count": 47,
      "outputs": [
        {
          "output_type": "execute_result",
          "data": {
            "text/plain": [
              "4"
            ]
          },
          "metadata": {
            "tags": []
          },
          "execution_count": 47
        }
      ]
    }
  ]
}