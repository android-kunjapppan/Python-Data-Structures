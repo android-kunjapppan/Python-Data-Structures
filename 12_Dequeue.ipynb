{
  "nbformat": 4,
  "nbformat_minor": 0,
  "metadata": {
    "colab": {
      "name": "12 Dequeue.ipynb",
      "provenance": [],
      "authorship_tag": "ABX9TyOGX4HL7OAzHNKD60iqABt1",
      "include_colab_link": true
    },
    "kernelspec": {
      "name": "python3",
      "display_name": "Python 3"
    }
  },
  "cells": [
    {
      "cell_type": "markdown",
      "metadata": {
        "id": "view-in-github",
        "colab_type": "text"
      },
      "source": [
        "<a href=\"https://colab.research.google.com/github/android-kunjapppan/Python-Data-Structures/blob/master/12_Dequeue.ipynb\" target=\"_parent\"><img src=\"https://colab.research.google.com/assets/colab-badge.svg\" alt=\"Open In Colab\"/></a>"
      ]
    },
    {
      "cell_type": "markdown",
      "metadata": {
        "id": "Y9MzGqgdj9h8",
        "colab_type": "text"
      },
      "source": [
        "# Dequeue:\n",
        "* Double-ended queue or dequeue supports adding or removing elements from either end\n",
        "* stacks and queues are degenerate forms of dequeues where the i/p and o/p are restricted to a single end"
      ]
    },
    {
      "cell_type": "code",
      "metadata": {
        "id": "GVnyTrDkj_F7",
        "colab_type": "code",
        "colab": {
          "base_uri": "https://localhost:8080/",
          "height": 101
        },
        "outputId": "9d76e690-b83f-4fb5-bcd4-790e313c8727"
      },
      "source": [
        "from collections import deque\n",
        "\n",
        "dequeue =deque(['M','T','W'])\n",
        "print(dequeue)\n",
        "\n",
        "# adding element on the right hand side\n",
        "dequeue.append('TH')\n",
        "print(dequeue)\n",
        "\n",
        "\n",
        "# adding element on the left hand side\n",
        "dequeue.appendleft('O')\n",
        "print(dequeue)\n",
        "\n",
        "\n",
        "# removing element from the right hand side\n",
        "dequeue.pop()\n",
        "print(dequeue)\n",
        "\n",
        "\n",
        "# removing element from the right hand side\n",
        "dequeue.popleft()\n",
        "print(dequeue)"
      ],
      "execution_count": 64,
      "outputs": [
        {
          "output_type": "stream",
          "text": [
            "deque(['M', 'T', 'W'])\n",
            "deque(['M', 'T', 'W', 'TH'])\n",
            "deque(['O', 'M', 'T', 'W', 'TH'])\n",
            "deque(['O', 'M', 'T', 'W'])\n",
            "deque(['M', 'T', 'W'])\n"
          ],
          "name": "stdout"
        }
      ]
    }
  ]
}