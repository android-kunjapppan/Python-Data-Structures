{
  "nbformat": 4,
  "nbformat_minor": 0,
  "metadata": {
    "colab": {
      "name": "7 Sets.ipynb",
      "provenance": [],
      "authorship_tag": "ABX9TyPkvC9NBES0noPw6y9lKVR0",
      "include_colab_link": true
    },
    "kernelspec": {
      "name": "python3",
      "display_name": "Python 3"
    }
  },
  "cells": [
    {
      "cell_type": "markdown",
      "metadata": {
        "id": "view-in-github",
        "colab_type": "text"
      },
      "source": [
        "<a href=\"https://colab.research.google.com/github/android-kunjapppan/Python-Data-Structures/blob/master/7_Sets.ipynb\" target=\"_parent\"><img src=\"https://colab.research.google.com/assets/colab-badge.svg\" alt=\"Open In Colab\"/></a>"
      ]
    },
    {
      "cell_type": "markdown",
      "metadata": {
        "id": "TWmbt1tTC5Bi",
        "colab_type": "text"
      },
      "source": [
        "# Sets\n",
        " * Mathematically, set is a collection of items not in any particular order\n",
        " * The elements in the set will have no duplicates\n",
        " * The elements in the set are not mutable, whereas the SET as a whole is mutable\n",
        " * No index is attached to any element\n",
        " * Created using set() or placing the elements with in pair of curly braces\n",
        "\n",
        "\n",
        "# Set Operations\n",
        "* Used for mathematical operations like Union, INtersection, Difference, Complement etc.,\n",
        "\n"
      ]
    },
    {
      "cell_type": "code",
      "metadata": {
        "id": "fipwiLuTC6Ip",
        "colab_type": "code",
        "colab": {
          "base_uri": "https://localhost:8080/",
          "height": 69
        },
        "outputId": "99ae93dd-f5ac-48fd-aaf6-ef969a33f222"
      },
      "source": [
        "Days=set([\"Mon\",\"Tue\",\"Wed\",\"Thu\",\"Fri\",\"Sat\",\"Sun\"])\n",
        "Months={\"Jan\",\"Feb\",\"Mar\"}\n",
        "Dates={21,22,17}\n",
        "\n",
        "# Note that the order of the elements has changed\n",
        "print(Days)\n",
        "print(Months)\n",
        "print(Dates)"
      ],
      "execution_count": 1,
      "outputs": [
        {
          "output_type": "stream",
          "text": [
            "{'Mon', 'Wed', 'Sun', 'Tue', 'Sat', 'Thu', 'Fri'}\n",
            "{'Mar', 'Feb', 'Jan'}\n",
            "{17, 21, 22}\n"
          ],
          "name": "stdout"
        }
      ]
    },
    {
      "cell_type": "markdown",
      "metadata": {
        "id": "nkgsUdy8IpSi",
        "colab_type": "text"
      },
      "source": [
        "# Accessing Values in a set\n",
        "* Cannot access individual elements values in a set. We can only access alll the elements together"
      ]
    },
    {
      "cell_type": "code",
      "metadata": {
        "id": "pcP-k_m-IRlp",
        "colab_type": "code",
        "colab": {
          "base_uri": "https://localhost:8080/",
          "height": 139
        },
        "outputId": "c6bb20af-87f3-4f61-9487-397b9167ceb8"
      },
      "source": [
        "# Looping through the set\n",
        "for d in Days:\n",
        "  print(d)"
      ],
      "execution_count": 2,
      "outputs": [
        {
          "output_type": "stream",
          "text": [
            "Mon\n",
            "Wed\n",
            "Sun\n",
            "Tue\n",
            "Sat\n",
            "Thu\n",
            "Fri\n"
          ],
          "name": "stdout"
        }
      ]
    },
    {
      "cell_type": "code",
      "metadata": {
        "id": "b9w-lMF-I7bF",
        "colab_type": "code",
        "colab": {
          "base_uri": "https://localhost:8080/",
          "height": 35
        },
        "outputId": "a87ca13b-80e7-487d-83ff-9719ef4f1a27"
      },
      "source": [
        "# Adding items to a Set using add() method\n",
        "Days.add('Sun')\n",
        "print(Days)"
      ],
      "execution_count": 4,
      "outputs": [
        {
          "output_type": "stream",
          "text": [
            "{'Mon', 'Wed', 'Sun', 'Tue', 'Sat', 'Thu', 'Fri'}\n"
          ],
          "name": "stdout"
        }
      ]
    },
    {
      "cell_type": "code",
      "metadata": {
        "id": "0QAO_tQLJH9F",
        "colab_type": "code",
        "colab": {
          "base_uri": "https://localhost:8080/",
          "height": 35
        },
        "outputId": "b1108cf4-6066-4960-f6a1-5feb6709bb5b"
      },
      "source": [
        "# Removing item from a Set using discard() method\n",
        "Days.discard('Sun')\n",
        "\n",
        "print(Days)"
      ],
      "execution_count": 5,
      "outputs": [
        {
          "output_type": "stream",
          "text": [
            "{'Mon', 'Wed', 'Tue', 'Sat', 'Thu', 'Fri'}\n"
          ],
          "name": "stdout"
        }
      ]
    },
    {
      "cell_type": "code",
      "metadata": {
        "id": "E2LQxg2pJX39",
        "colab_type": "code",
        "colab": {
          "base_uri": "https://localhost:8080/",
          "height": 35
        },
        "outputId": "a6538bf8-823d-4be9-8e26-75ecf21a93b3"
      },
      "source": [
        "# Union of Sets using | operator, which produces a new set containing all the distinct elements\n",
        "Union = Days | Months\n",
        "print(Union)"
      ],
      "execution_count": 6,
      "outputs": [
        {
          "output_type": "stream",
          "text": [
            "{'Mon', 'Wed', 'Mar', 'Jan', 'Tue', 'Sat', 'Thu', 'Fri', 'Feb'}\n"
          ],
          "name": "stdout"
        }
      ]
    },
    {
      "cell_type": "code",
      "metadata": {
        "id": "qSxmg_JEJvL8",
        "colab_type": "code",
        "colab": {
          "base_uri": "https://localhost:8080/",
          "height": 35
        },
        "outputId": "607d4842-180c-4255-b23a-7bcbacf8e1d8"
      },
      "source": [
        "# Intersection of Sets using & operator, which gives common elements\n",
        "Days2= {'Sun','Mon'}\n",
        "Intersect = Days&Days2\n",
        "\n",
        "print(Intersect)"
      ],
      "execution_count": 7,
      "outputs": [
        {
          "output_type": "stream",
          "text": [
            "{'Mon'}\n"
          ],
          "name": "stdout"
        }
      ]
    },
    {
      "cell_type": "code",
      "metadata": {
        "id": "ZF89LeO1KQ5a",
        "colab_type": "code",
        "colab": {
          "base_uri": "https://localhost:8080/",
          "height": 35
        },
        "outputId": "f273e865-f9f0-45c7-99c9-a40bb65e4e4c"
      },
      "source": [
        "# Difference of Sets using - operator, which gives a new set containing only the elements from the first set and none from the second set.\n",
        "Diff= Days-Days2\n",
        "\n",
        "print(Diff)"
      ],
      "execution_count": 8,
      "outputs": [
        {
          "output_type": "stream",
          "text": [
            "{'Wed', 'Tue', 'Sat', 'Thu', 'Fri'}\n"
          ],
          "name": "stdout"
        }
      ]
    },
    {
      "cell_type": "code",
      "metadata": {
        "id": "Qljbr8x_K1ur",
        "colab_type": "code",
        "colab": {
          "base_uri": "https://localhost:8080/",
          "height": 52
        },
        "outputId": "e7aad24c-1d22-499d-cfa0-c0243a311ff0"
      },
      "source": [
        "# Compare Sets, checks if the given set is a subset or superset of another set.\n",
        "DaysA = set([\"Mon\",\"Tue\",\"Wed\"])\n",
        "DaysB = set([\"Mon\",\"Tue\",\"Wed\",\"Thu\",\"Fri\",\"Sat\",\"Sun\"])\n",
        "\n",
        "print(DaysA <= DaysB)\n",
        "print(DaysA >= DaysB)"
      ],
      "execution_count": 10,
      "outputs": [
        {
          "output_type": "stream",
          "text": [
            "True\n",
            "False\n"
          ],
          "name": "stdout"
        }
      ]
    }
  ]
}