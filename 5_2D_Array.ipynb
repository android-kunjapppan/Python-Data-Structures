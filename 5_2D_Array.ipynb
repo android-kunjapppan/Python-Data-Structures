{
  "nbformat": 4,
  "nbformat_minor": 0,
  "metadata": {
    "colab": {
      "name": "5 2D Array.ipynb",
      "provenance": [],
      "authorship_tag": "ABX9TyNxhgcKXmoru6U/8ViTOQyl",
      "include_colab_link": true
    },
    "kernelspec": {
      "name": "python3",
      "display_name": "Python 3"
    }
  },
  "cells": [
    {
      "cell_type": "markdown",
      "metadata": {
        "id": "view-in-github",
        "colab_type": "text"
      },
      "source": [
        "<a href=\"https://colab.research.google.com/github/android-kunjapppan/Python-Data-Structures/blob/master/5_2D_Array.ipynb\" target=\"_parent\"><img src=\"https://colab.research.google.com/assets/colab-badge.svg\" alt=\"Open In Colab\"/></a>"
      ]
    },
    {
      "cell_type": "markdown",
      "metadata": {
        "id": "B9WbPU7VQ61x",
        "colab_type": "text"
      },
      "source": [
        "# 2D Array\n",
        "\n",
        "* Array within an Array | Array of Arrays\n",
        "* Position of elements is referred by two indices instead of one\n",
        "* represents a table with rows and cols of data\n"
      ]
    },
    {
      "cell_type": "code",
      "metadata": {
        "id": "H6mMoh_yQ6ts",
        "colab_type": "code",
        "colab": {}
      },
      "source": [
        "from array import *\n",
        "\n",
        "T = [[11, 12, 5, 2], [15, 6,10], [10, 8, 12, 5], [12,15,8,6]]"
      ],
      "execution_count": 41,
      "outputs": []
    },
    {
      "cell_type": "markdown",
      "metadata": {
        "id": "mpf-qa1XRkFU",
        "colab_type": "text"
      },
      "source": [
        "# Accessing Values in a 2D Array\n",
        "* can be accessed using two indices.\n",
        "* One - > Parent Array\n",
        "* Two - > referrring the position of the data element in the inner array.\n",
        "* If we mention only one index entire inner array will be printed"
      ]
    },
    {
      "cell_type": "code",
      "metadata": {
        "id": "2OWpVN4OSAJX",
        "colab_type": "code",
        "colab": {
          "base_uri": "https://localhost:8080/",
          "height": 50
        },
        "outputId": "50612e89-1a0c-4ac4-977c-93565ffd77da"
      },
      "source": [
        "# printing the entire inner array\n",
        "print('T[0]:', T[0])\n",
        "\n",
        "# printing the element in the inner array\n",
        "print('T[1][2]',T[1][2])"
      ],
      "execution_count": 42,
      "outputs": [
        {
          "output_type": "stream",
          "text": [
            "T[0]: [11, 12, 5, 2]\n",
            "T[1][2] 10\n"
          ],
          "name": "stdout"
        }
      ]
    },
    {
      "cell_type": "code",
      "metadata": {
        "id": "g5wnkX1jSVf6",
        "colab_type": "code",
        "colab": {
          "base_uri": "https://localhost:8080/",
          "height": 84
        },
        "outputId": "24275054-9be6-46fc-ee0c-ca202a24910b"
      },
      "source": [
        "# To Print the entire 2D array we can use for loop\n",
        "# Use end o line to print out values in different rows\n",
        "\n",
        "for row in T:\n",
        "  for col in row:\n",
        "    print(col,end=\" \")\n",
        "  print() # To print inner arrays in seperate lines"
      ],
      "execution_count": 44,
      "outputs": [
        {
          "output_type": "stream",
          "text": [
            "11 12 5 2 \n",
            "15 6 10 \n",
            "10 8 12 5 \n",
            "12 15 8 6 \n"
          ],
          "name": "stdout"
        }
      ]
    },
    {
      "cell_type": "markdown",
      "metadata": {
        "id": "lX2rsPuATZsN",
        "colab_type": "text"
      },
      "source": [
        "# Deleting the values in Array\n"
      ]
    },
    {
      "cell_type": "code",
      "metadata": {
        "id": "RpyVGOuyS75p",
        "colab_type": "code",
        "colab": {
          "base_uri": "https://localhost:8080/",
          "height": 67
        },
        "outputId": "c6ca2a71-423e-407b-8bdd-db928192e9ac"
      },
      "source": [
        "# To delete the entire inner array\n",
        "del T[3]\n",
        "\n",
        "# To delete a particular element in the inside array\n",
        "del T[2][1]\n",
        "\n",
        "for row in T:\n",
        "  for col in row:\n",
        "    print(col, end=\" \")\n",
        "  print()"
      ],
      "execution_count": 45,
      "outputs": [
        {
          "output_type": "stream",
          "text": [
            "11 12 5 2 \n",
            "15 6 10 \n",
            "10 12 5 \n"
          ],
          "name": "stdout"
        }
      ]
    }
  ]
}