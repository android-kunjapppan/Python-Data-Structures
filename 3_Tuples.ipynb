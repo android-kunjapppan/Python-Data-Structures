{
  "nbformat": 4,
  "nbformat_minor": 0,
  "metadata": {
    "colab": {
      "name": "3 Tuples.ipynb",
      "provenance": [],
      "authorship_tag": "ABX9TyPCLvGUsajDz6Si9FFGW6bY",
      "include_colab_link": true
    },
    "kernelspec": {
      "name": "python3",
      "display_name": "Python 3"
    }
  },
  "cells": [
    {
      "cell_type": "markdown",
      "metadata": {
        "id": "view-in-github",
        "colab_type": "text"
      },
      "source": [
        "<a href=\"https://colab.research.google.com/github/android-kunjapppan/Python-Data-Structures/blob/master/3_Tuples.ipynb\" target=\"_parent\"><img src=\"https://colab.research.google.com/assets/colab-badge.svg\" alt=\"Open In Colab\"/></a>"
      ]
    },
    {
      "cell_type": "markdown",
      "metadata": {
        "id": "AhiBfi2pDuFx",
        "colab_type": "text"
      },
      "source": [
        "# Tuples\n",
        "\n",
        "* Sequence of immutable Python objects\n",
        "* Tuples cannot be changed unlike lists\n",
        "* Comma-seperated values between parentheses\n"
      ]
    },
    {
      "cell_type": "code",
      "metadata": {
        "id": "W8fkXoDEDkP-",
        "colab_type": "code",
        "colab": {
          "base_uri": "https://localhost:8080/",
          "height": 50
        },
        "outputId": "6a5b20d0-f78e-47c6-87f3-ac129bc4c2d4"
      },
      "source": [
        "tup1 = ('physics', 'chemistry', 1997, 2000)\n",
        "tup2 = (1, 2, 3, 4, 5 )\n",
        "tup3 = \"a\", \"b\", \"c\", \"d\"\n",
        "\n",
        "print(\"tup1:\", tup1)\n",
        "\n",
        "# empty Tuple\n",
        "emp = ()\n",
        "\n",
        "# Tuple with a single should have a comma after the element\n",
        "single = (50,)\n",
        "print(single)"
      ],
      "execution_count": 22,
      "outputs": [
        {
          "output_type": "stream",
          "text": [
            "tup1: ('physics', 'chemistry', 1997, 2000)\n",
            "(50,)\n"
          ],
          "name": "stdout"
        }
      ]
    },
    {
      "cell_type": "code",
      "metadata": {
        "id": "8OP-vqsfGPLi",
        "colab_type": "code",
        "colab": {
          "base_uri": "https://localhost:8080/",
          "height": 50
        },
        "outputId": "f34aac19-f799-4c67-ecc3-232cda753401"
      },
      "source": [
        "# Accessing values in tuples\n",
        "print(\"tup1[0]: \", tup1[0])\n",
        "print(\"tup2[1:5]\", tup2[1:5])"
      ],
      "execution_count": 23,
      "outputs": [
        {
          "output_type": "stream",
          "text": [
            "tup1[0]:  physics\n",
            "tup2[1:5] (2, 3, 4, 5)\n"
          ],
          "name": "stdout"
        }
      ]
    },
    {
      "cell_type": "code",
      "metadata": {
        "id": "_1eQVnzdJBx4",
        "colab_type": "code",
        "colab": {}
      },
      "source": [
        "# Updating Tuples \n",
        "\n",
        "# Tuples are immutable means you cannot update or change the values\n",
        "# So, the following action is not valid for tuples\n",
        "# tup1[1]=100"
      ],
      "execution_count": null,
      "outputs": []
    },
    {
      "cell_type": "code",
      "metadata": {
        "id": "w4Ab3WooJLiz",
        "colab_type": "code",
        "colab": {
          "base_uri": "https://localhost:8080/",
          "height": 34
        },
        "outputId": "dc1f35e6-635c-414d-f440-2f1a885280bf"
      },
      "source": [
        "# We can take portions of tuples and create a new tuples \n",
        "tup4 = tup1+ tup2\n",
        "print(tup4)"
      ],
      "execution_count": 26,
      "outputs": [
        {
          "output_type": "stream",
          "text": [
            "('physics', 'chemistry', 1997, 2000, 1, 2, 3, 4, 5)\n"
          ],
          "name": "stdout"
        }
      ]
    },
    {
      "cell_type": "code",
      "metadata": {
        "id": "O4fiygDhNK74",
        "colab_type": "code",
        "colab": {}
      },
      "source": [
        "# Delete Tuple Elements\n",
        "# Removing individual elements in a tuple is not possible\n",
        "# We can remove an entire tuple by using del statement\n",
        "del tup1"
      ],
      "execution_count": 27,
      "outputs": []
    },
    {
      "cell_type": "markdown",
      "metadata": {
        "id": "WHh1xaB2Nqw9",
        "colab_type": "text"
      },
      "source": [
        "# Basic Tuple Operations\n"
      ]
    },
    {
      "cell_type": "code",
      "metadata": {
        "id": "QMzVx8xaNiJc",
        "colab_type": "code",
        "colab": {
          "base_uri": "https://localhost:8080/",
          "height": 168
        },
        "outputId": "e33bcf8e-c3d2-488c-a264-186479de8c08"
      },
      "source": [
        "# Length\n",
        "print('length',len(tup2))\n",
        "\n",
        "# Concatenation\n",
        "print(tup2+tup3)\n",
        "\n",
        "# Repetetion\n",
        "tup5 = ['HI']\n",
        "print(tup5*4)\n",
        "\n",
        "# Membership\n",
        "print(3 in tup2) # returns true if 3 is present in list2\n",
        "\n",
        "# Iteration (prints all the elements in the list)\n",
        "for x in tup2: \n",
        "  print(x)"
      ],
      "execution_count": 28,
      "outputs": [
        {
          "output_type": "stream",
          "text": [
            "length 5\n",
            "(1, 2, 3, 4, 5, 'a', 'b', 'c', 'd')\n",
            "['HI', 'HI', 'HI', 'HI']\n",
            "True\n",
            "1\n",
            "2\n",
            "3\n",
            "4\n",
            "5\n"
          ],
          "name": "stdout"
        }
      ]
    }
  ]
}