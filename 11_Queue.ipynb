{
  "nbformat": 4,
  "nbformat_minor": 0,
  "metadata": {
    "colab": {
      "name": "11 Queue.ipynb",
      "provenance": [],
      "authorship_tag": "ABX9TyPP1tMA1VQEcHggcDGqRxv7",
      "include_colab_link": true
    },
    "kernelspec": {
      "name": "python3",
      "display_name": "Python 3"
    }
  },
  "cells": [
    {
      "cell_type": "markdown",
      "metadata": {
        "id": "view-in-github",
        "colab_type": "text"
      },
      "source": [
        "<a href=\"https://colab.research.google.com/github/android-kunjapppan/Python-Data-Structures/blob/master/11_Queue.ipynb\" target=\"_parent\"><img src=\"https://colab.research.google.com/assets/colab-badge.svg\" alt=\"Open In Colab\"/></a>"
      ]
    },
    {
      "cell_type": "markdown",
      "metadata": {
        "id": "lZkKOEWGgBVH",
        "colab_type": "text"
      },
      "source": [
        "# Queue: (FIFO)\n",
        "* The items are allowed at one end but removed from another end.\n",
        "* we use INSERT and POP methods\n",
        "* There is no insertion in the queue as the data elements are always added at the end of the queue\n"
      ]
    },
    {
      "cell_type": "code",
      "metadata": {
        "id": "8CVOFpj5g0DQ",
        "colab_type": "code",
        "colab": {}
      },
      "source": [
        "class queue:\n",
        "  def __init__(self):\n",
        "    self.queue= list()\n",
        "  \n",
        "  def addtoq(self,data):\n",
        "    if data not in self.queue:\n",
        "      self.queue.insert(0,data)\n",
        "      return True\n",
        "    else:\n",
        "      return False\n",
        "  \n",
        "  def size(self):\n",
        "    return len(self.queue)\n",
        "  \n",
        "  def remove(self):\n",
        "    if len(self.queue)>0:\n",
        "      return self.queue.pop()\n",
        "    return (\"The Queue is empty\")"
      ],
      "execution_count": 55,
      "outputs": []
    },
    {
      "cell_type": "code",
      "metadata": {
        "id": "xaHuxpPAhEKK",
        "colab_type": "code",
        "colab": {}
      },
      "source": [
        "queue = queue()"
      ],
      "execution_count": 56,
      "outputs": []
    },
    {
      "cell_type": "code",
      "metadata": {
        "id": "W_7HbGqLiOvW",
        "colab_type": "code",
        "colab": {
          "base_uri": "https://localhost:8080/",
          "height": 35
        },
        "outputId": "5df27121-0110-4a91-f917-78a5505221ec"
      },
      "source": [
        "# now the queue is empty\n",
        "queue.remove()"
      ],
      "execution_count": 57,
      "outputs": [
        {
          "output_type": "execute_result",
          "data": {
            "application/vnd.google.colaboratory.intrinsic+json": {
              "type": "string"
            },
            "text/plain": [
              "'The Queue is empty'"
            ]
          },
          "metadata": {
            "tags": []
          },
          "execution_count": 57
        }
      ]
    },
    {
      "cell_type": "code",
      "metadata": {
        "id": "lggqzm5JiVqJ",
        "colab_type": "code",
        "colab": {
          "base_uri": "https://localhost:8080/",
          "height": 34
        },
        "outputId": "6efab2da-fb46-4cfd-f499-1a0a938dc000"
      },
      "source": [
        "# adding elements to the queue\n",
        "queue.addtoq(2)\n",
        "queue.addtoq(3)\n",
        "queue.addtoq(4)\n",
        "queue.addtoq(5)\n",
        "\n",
        "# size of the queue\n",
        "queue.size()"
      ],
      "execution_count": 59,
      "outputs": [
        {
          "output_type": "execute_result",
          "data": {
            "text/plain": [
              "4"
            ]
          },
          "metadata": {
            "tags": []
          },
          "execution_count": 59
        }
      ]
    },
    {
      "cell_type": "code",
      "metadata": {
        "id": "AbExa-kZi27u",
        "colab_type": "code",
        "colab": {
          "base_uri": "https://localhost:8080/",
          "height": 34
        },
        "outputId": "03d5d52c-9cc6-4055-f294-c232066d1686"
      },
      "source": [
        "# Removing the last element from the queue\n",
        "queue.remove()\n",
        "\n",
        "# now checking the size of the queue\n",
        "queue.size()"
      ],
      "execution_count": 62,
      "outputs": [
        {
          "output_type": "execute_result",
          "data": {
            "text/plain": [
              "3"
            ]
          },
          "metadata": {
            "tags": []
          },
          "execution_count": 62
        }
      ]
    }
  ]
}