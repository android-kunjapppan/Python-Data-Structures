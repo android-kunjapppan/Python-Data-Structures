{
  "nbformat": 4,
  "nbformat_minor": 0,
  "metadata": {
    "colab": {
      "name": "4 Dictionary.ipynb",
      "provenance": [],
      "authorship_tag": "ABX9TyNC/yxT9mTZE9rtNLatHs5S",
      "include_colab_link": true
    },
    "kernelspec": {
      "name": "python3",
      "display_name": "Python 3"
    }
  },
  "cells": [
    {
      "cell_type": "markdown",
      "metadata": {
        "id": "view-in-github",
        "colab_type": "text"
      },
      "source": [
        "<a href=\"https://colab.research.google.com/github/android-kunjapppan/Python-Data-Structures/blob/master/4_Dictionary.ipynb\" target=\"_parent\"><img src=\"https://colab.research.google.com/assets/colab-badge.svg\" alt=\"Open In Colab\"/></a>"
      ]
    },
    {
      "cell_type": "markdown",
      "metadata": {
        "id": "MZSVh324OH-Y",
        "colab_type": "text"
      },
      "source": [
        "# Dictionary (key-value pair)\n",
        "* Each key is seperated from its value by a colon(:), and the items are seperated by commas and whole thing is enclosed in curly braces.\n",
        "* Keys are Unique while values might not be.\n",
        "* Values can be of any type, but keys must be an immutable data type such as string, numbers or tuples\n",
        " "
      ]
    },
    {
      "cell_type": "code",
      "metadata": {
        "id": "mnSrnlGVOHFK",
        "colab_type": "code",
        "colab": {
          "base_uri": "https://localhost:8080/",
          "height": 34
        },
        "outputId": "7d567c19-e69e-4c90-fde2-eb7fab3ab8bd"
      },
      "source": [
        "dict = {'Name':'Zara','Age':7,\"Class\":'First'}\n",
        "\n",
        "# Empty Dictionary\n",
        "emp = {}\n",
        "\n",
        "# Accessing Values in Dictionary\n",
        "print(\"dict['Name']:\",dict['Name'])"
      ],
      "execution_count": 30,
      "outputs": [
        {
          "output_type": "stream",
          "text": [
            "dict['Name']: Zara\n"
          ],
          "name": "stdout"
        }
      ]
    },
    {
      "cell_type": "code",
      "metadata": {
        "id": "yB09q9PZO-8I",
        "colab_type": "code",
        "colab": {
          "base_uri": "https://localhost:8080/",
          "height": 34
        },
        "outputId": "3e0cbd79-fedc-4d43-e819-63386a9bfe6d"
      },
      "source": [
        "# Updating Dictionary\n",
        "dict['Age']=8  # Updating Existing Entry\n",
        "\n",
        "dict['School']='XYZ School'  # Add New entry\n",
        "\n",
        "print(dict)"
      ],
      "execution_count": 31,
      "outputs": [
        {
          "output_type": "stream",
          "text": [
            "{'Name': 'Zara', 'Age': 8, 'Class': 'First', 'School': 'XYZ School'}\n"
          ],
          "name": "stdout"
        }
      ]
    },
    {
      "cell_type": "code",
      "metadata": {
        "id": "sJcDREuMPZOU",
        "colab_type": "code",
        "colab": {}
      },
      "source": [
        "# Delete Dictionary Elements\n",
        "del dict['Name'] # remove entry with key 'Namee'\n",
        "\n",
        "dict.clear() # removes all entries in dict\n",
        "\n",
        "del dict # Deletes entire Dictionary"
      ],
      "execution_count": 32,
      "outputs": []
    },
    {
      "cell_type": "markdown",
      "metadata": {
        "id": "lIO4KYp_PvZu",
        "colab_type": "text"
      },
      "source": [
        "# Properties of Dictionary Keys\n",
        "\n",
        "1. More than one entry per key not allowed. Which means no duplicate key is allowed. When duplicate keys encountered during assignment, the last assignment wins.\n"
      ]
    },
    {
      "cell_type": "code",
      "metadata": {
        "id": "_uaUMcIePq3I",
        "colab_type": "code",
        "colab": {
          "base_uri": "https://localhost:8080/",
          "height": 34
        },
        "outputId": "4c272acc-b6e9-47e4-c6a8-ed845de31b69"
      },
      "source": [
        "dict1 = {'Name': 'Zara', 'Age': 7, 'Name': 'Manni'}\n",
        "\n",
        "print(\"dict['Name']:\", dict1['Name'])"
      ],
      "execution_count": 36,
      "outputs": [
        {
          "output_type": "stream",
          "text": [
            "dict['Name']: Manni\n"
          ],
          "name": "stdout"
        }
      ]
    },
    {
      "cell_type": "markdown",
      "metadata": {
        "id": "cm0Wru8BQQdo",
        "colab_type": "text"
      },
      "source": [
        "2. Keys must be immutable. Which means you can use strings, numbers or tuples as dictionary keys but something like ['key'] is not allowed"
      ]
    },
    {
      "cell_type": "code",
      "metadata": {
        "id": "-o7-8GZqQFfb",
        "colab_type": "code",
        "colab": {}
      },
      "source": [
        "# This results in an error as lists objects are unhashale\n",
        "dict = {['Name']: 'Zara', 'Age': 7}\n",
        "print (\"dict['Name']: \", dict['Name'])"
      ],
      "execution_count": null,
      "outputs": []
    }
  ]
}