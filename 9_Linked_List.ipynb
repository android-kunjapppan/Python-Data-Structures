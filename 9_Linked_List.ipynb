{
  "nbformat": 4,
  "nbformat_minor": 0,
  "metadata": {
    "colab": {
      "name": "9 Linked List.ipynb",
      "provenance": [],
      "authorship_tag": "ABX9TyOJORk3Wgj4QX0w2m94Tu94",
      "include_colab_link": true
    },
    "kernelspec": {
      "name": "python3",
      "display_name": "Python 3"
    }
  },
  "cells": [
    {
      "cell_type": "markdown",
      "metadata": {
        "id": "view-in-github",
        "colab_type": "text"
      },
      "source": [
        "<a href=\"https://colab.research.google.com/github/android-kunjapppan/Python-Data-Structures/blob/master/9_Linked_List.ipynb\" target=\"_parent\"><img src=\"https://colab.research.google.com/assets/colab-badge.svg\" alt=\"Open In Colab\"/></a>"
      ]
    },
    {
      "cell_type": "markdown",
      "metadata": {
        "id": "fi17RWBaSLFX",
        "colab_type": "text"
      },
      "source": [
        "# Linked Lists:\n",
        "* Sequence of data elements, which are connected together via links.\n",
        "* Each element has a connection in form of a pointer\n",
        "* Python doesn't have linked lists in it's library\n",
        "* A linked list is created by using the Node class.\n",
        "\n",
        "\n",
        "# Nodes:\n",
        "* Nodes are created by implementing a class which will hold pointers along with the data element.\n"
      ]
    },
    {
      "cell_type": "code",
      "metadata": {
        "id": "K4kzQXhUU4yG",
        "colab_type": "code",
        "colab": {
          "base_uri": "https://localhost:8080/",
          "height": 69
        },
        "outputId": "9f53c47c-33e7-43a4-bcca-ed302c534189"
      },
      "source": [
        "# Creation of Nodes:\n",
        "class daynames:\n",
        "  def __init__(self,dataval=None):\n",
        "    self.dataval=dataval\n",
        "    self.nextval = None\n",
        "\n",
        "e1 = daynames('Mon')\n",
        "e2 = daynames('Tue')\n",
        "e3 = daynames('Wed')\n",
        "\n",
        "# nextval pointer of e1 points e3 and e3 points e2\n",
        "e1.nextval = e3\n",
        "e3.nextval = e2\n",
        "\n",
        "# Traversing the Node Elements\n",
        "thisvalue = e1\n",
        "while thisvalue:\n",
        "  print(thisvalue.dataval)\n",
        "  thisvalue = thisvalue.nextval"
      ],
      "execution_count": 23,
      "outputs": [
        {
          "output_type": "stream",
          "text": [
            "Mon\n",
            "Wed\n",
            "Tue\n"
          ],
          "name": "stdout"
        }
      ]
    },
    {
      "cell_type": "markdown",
      "metadata": {
        "id": "q-c6NtoRWII3",
        "colab_type": "text"
      },
      "source": [
        "# Creation of Linked List\n",
        "* We create Node Object and create another class to use this Node Object.\n"
      ]
    },
    {
      "cell_type": "code",
      "metadata": {
        "id": "qs_7jZjhU8DV",
        "colab_type": "code",
        "colab": {}
      },
      "source": [
        "class Node:\n",
        "  def __init__(self,dataval=None):\n",
        "    self.dataval = dataval\n",
        "    self.nextval = None # Last element in the linked list will having the next pointer as Null\n",
        "\n",
        "class SLinkedList:\n",
        "  def __init__(self):\n",
        "    self.headval= None\n",
        "\n",
        "list1 = SLinkedList()\n",
        "\n",
        "# First NOde\n",
        "list1.headval = Node('Mon')\n",
        "list2 = Node('Tue')\n",
        "list3 = Node('Wed')\n",
        "list4 = Node('Thu')\n",
        "\n",
        "# Link first node to second Node\n",
        "list1.headval.nextval = list2\n",
        "\n",
        "# Link second node to third Node\n",
        "list2.nextval = list3\n",
        "\n",
        "# Link third node to fourth Node\n",
        "list3.nextval = list4"
      ],
      "execution_count": 25,
      "outputs": []
    },
    {
      "cell_type": "markdown",
      "metadata": {
        "id": "xjbu_z6eY1wV",
        "colab_type": "text"
      },
      "source": [
        "# Traversing through a linked List\n",
        "* create a function listprint() inside the SLinkedList class"
      ]
    },
    {
      "cell_type": "code",
      "metadata": {
        "id": "mCrSOgcMXm8m",
        "colab_type": "code",
        "colab": {
          "base_uri": "https://localhost:8080/",
          "height": 87
        },
        "outputId": "0a875578-012b-4d5c-a667-ecf28f5edd59"
      },
      "source": [
        "# Traversing through a linked List\n",
        "# create a function listprint() inside the SLinkedList class\n",
        "\n",
        "class SLinkedList:\n",
        "  def __init__(self):\n",
        "    self.headval= None\n",
        "  \n",
        "  def listprint(self):\n",
        "    thisval=self.headval\n",
        "    while thisval:\n",
        "      print(thisval.dataval)\n",
        "      thisval = thisval.nextval\n",
        "\n",
        "list1 = SLinkedList()\n",
        "\n",
        "# First NOde\n",
        "list1.headval = Node('Mon')\n",
        "list2 = Node('Tue')\n",
        "list3 = Node('Wed')\n",
        "list4 = Node('Thu')\n",
        "\n",
        "# Link first node to second Node\n",
        "list1.headval.nextval = list2\n",
        "\n",
        "# Link second node to third Node\n",
        "list2.nextval = list3\n",
        "\n",
        "# Link third node to fourth Node\n",
        "list3.nextval = list4\n",
        "\n",
        "# prints the elements in the linked list\n",
        "list1.listprint()"
      ],
      "execution_count": 28,
      "outputs": [
        {
          "output_type": "stream",
          "text": [
            "Mon\n",
            "Tue\n",
            "Wed\n",
            "Thu\n"
          ],
          "name": "stdout"
        }
      ]
    },
    {
      "cell_type": "markdown",
      "metadata": {
        "id": "p9aGdCDLZIVo",
        "colab_type": "text"
      },
      "source": [
        "# Insertion:\n",
        "* Involves reassigning the pointers\n",
        "\n",
        "1. Insertion at the Beginning\n",
        "2. Insertion at the End\n",
        "3. Insertion in between two Data Nodes"
      ]
    },
    {
      "cell_type": "code",
      "metadata": {
        "id": "MhY1OBLiYWpD",
        "colab_type": "code",
        "colab": {
          "base_uri": "https://localhost:8080/",
          "height": 69
        },
        "outputId": "5ba8f08d-6643-4a08-b461-1b090d554056"
      },
      "source": [
        "# 1. At the Beginnning\n",
        "\n",
        "class SLinkedList:\n",
        "  def __init__(self,dataval=None):\n",
        "    self.dataval=dataval\n",
        "    self.nextval=None\n",
        "  \n",
        "  def listprint(self):\n",
        "    thisval=self.headval\n",
        "    while thisval:\n",
        "      print(thisval.dataval)\n",
        "      thisval = thisval.nextval\n",
        "  \n",
        "  def AtBeginning(self,newdata):\n",
        "    NewNode = Node(newdata)\n",
        "\n",
        "    # Updating the new nodes next val to the existing node\n",
        "    NewNode.nextval = self.headval\n",
        "    self.headval = NewNode\n",
        "\n",
        "\n",
        "list1 = SLinkedList()\n",
        "list1.headval = Node('Mon')\n",
        "l2 = Node('Tues')\n",
        "l3 = Node('Wed')\n",
        "\n",
        "list1.headval.nextval = l2\n",
        "l2.nextval= l3\n",
        "\n",
        "list1.listprint()"
      ],
      "execution_count": 29,
      "outputs": [
        {
          "output_type": "stream",
          "text": [
            "Mon\n",
            "Tues\n",
            "Wed\n"
          ],
          "name": "stdout"
        }
      ]
    },
    {
      "cell_type": "markdown",
      "metadata": {
        "id": "3V3qWF4i0RDG",
        "colab_type": "text"
      },
      "source": [
        "# Linked List Operations"
      ]
    },
    {
      "cell_type": "code",
      "metadata": {
        "id": "Rx0gKGfFbXbI",
        "colab_type": "code",
        "colab": {
          "base_uri": "https://localhost:8080/",
          "height": 87
        },
        "outputId": "105e4fa9-0817-4abb-dcd1-7e746b9aec72"
      },
      "source": [
        "class node: # subclass of a linked list\n",
        "  def __init__(self, data =None):\n",
        "    self.data=data\n",
        "\n",
        "    # Last element in the linked list will having the next pointer as Null\n",
        "    self.next=None\n",
        "\n",
        "class linked_list:\n",
        "  def __init__(self):\n",
        "    self.head= node() #  head NOde doesn't contain any data\n",
        "  \n",
        "  # Append Function (adds element at the end)\n",
        "  def append(self,data):\n",
        "    new_node = node(data)\n",
        "    current = self.head\n",
        "    while current.next != None:\n",
        "      current = current.next\n",
        "    \n",
        "    current.next = new_node\n",
        "  \n",
        "  # To tell Number of elements in the list\n",
        "  def length(self):\n",
        "    current = self.head\n",
        "    total=0\n",
        "    while current.next != None:\n",
        "      total+=1\n",
        "      current=current.next\n",
        "    \n",
        "    return total\n",
        "  \n",
        "  #To display the elements in the linked lists\n",
        "  def display(self):\n",
        "    elements = []\n",
        "    cur_node = self.head\n",
        "    while cur_node.next!=None:\n",
        "      cur_node = cur_node.next\n",
        "      elements.append(cur_node.data)\n",
        "    \n",
        "    print(elements)\n",
        "  \n",
        "  # to get the data from a certain index\n",
        "  def get(self,index):\n",
        "    if (index>=self.length()):\n",
        "      print('ERROR!! Index oout of range')\n",
        "      return None\n",
        "    cur_index=0\n",
        "    cur_node= self.head\n",
        "    while True:\n",
        "      cur_node= cur_node.next\n",
        "      if cur_index==index:\n",
        "        return cur_node.data\n",
        "      cur_index+=1\n",
        "\n",
        "  # To erase data at a given index\n",
        "  def erase(self,index):\n",
        "    if (index>=self.length()):\n",
        "      print('ERROR!! Index oout of range')\n",
        "      return None\n",
        "    cur_index=0\n",
        "    cur_node=self.head\n",
        "    while True:\n",
        "      last_node=cur_node\n",
        "      cur_node= cur_node.next\n",
        "      if cur_index == index:\n",
        "        last_node.next=cur_node.next\n",
        "        return\n",
        "      cur_index+=1\n",
        "\n",
        "# creating a list object\n",
        "my_list = linked_list()\n",
        "\n",
        "# Displaying the elements\n",
        "my_list.display() # prints nothing as out linkedlist is empty\n",
        "\n",
        "# appending elements\n",
        "my_list.append(1)\n",
        "my_list.append(2)\n",
        "my_list.append(3)\n",
        "my_list.append(4)\n",
        "\n",
        "my_list.display()  # prints 1 and 2 \n",
        "\n",
        "# using get function\n",
        "print(\"Element at 2nd Index\",my_list.get(2))\n",
        "\n",
        "# using erase function\n",
        "my_list.erase(2)\n",
        "\n",
        "my_list.display()"
      ],
      "execution_count": 35,
      "outputs": [
        {
          "output_type": "stream",
          "text": [
            "[]\n",
            "[1, 2, 3, 4]\n",
            "Element at 2nd Index 3\n",
            "[1, 2, 4]\n"
          ],
          "name": "stdout"
        }
      ]
    },
    {
      "cell_type": "code",
      "metadata": {
        "id": "yR0Z-ENVwCmZ",
        "colab_type": "code",
        "colab": {}
      },
      "source": [
        ""
      ],
      "execution_count": null,
      "outputs": []
    }
  ]
}