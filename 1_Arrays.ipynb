{
  "nbformat": 4,
  "nbformat_minor": 0,
  "metadata": {
    "colab": {
      "name": "Arrays.ipynb",
      "provenance": [],
      "authorship_tag": "ABX9TyOaY93bD7NpYvSwpouj4dgz",
      "include_colab_link": true
    },
    "kernelspec": {
      "name": "python3",
      "display_name": "Python 3"
    }
  },
  "cells": [
    {
      "cell_type": "markdown",
      "metadata": {
        "id": "view-in-github",
        "colab_type": "text"
      },
      "source": [
        "<a href=\"https://colab.research.google.com/github/android-kunjapppan/Python-Data-Structures/blob/master/Arrays.ipynb\" target=\"_parent\"><img src=\"https://colab.research.google.com/assets/colab-badge.svg\" alt=\"Open In Colab\"/></a>"
      ]
    },
    {
      "cell_type": "markdown",
      "metadata": {
        "id": "AhiBfi2pDuFx",
        "colab_type": "text"
      },
      "source": [
        "# Arrays\n",
        "\n",
        "Typecode\tValue\n",
        "\n",
        "b --\tRepresents signed integer of size 1 byte\n",
        "\n",
        "B\t--Represents unsigned integer of size 1 byte\n",
        "\n",
        "c\t-- Represents character of size 1 byte\n",
        "\n",
        "i -- Represents signed integer of size 2 bytes\n",
        "\n",
        "I --\tRepresents unsigned integer of size 2 bytes\n",
        "\n",
        "f --\tRepresents floating point of size 4 bytes\n",
        "\n",
        "d --\tRepresents floating point of size 8 bytes"
      ]
    },
    {
      "cell_type": "code",
      "metadata": {
        "id": "W8fkXoDEDkP-",
        "colab_type": "code",
        "colab": {
          "base_uri": "https://localhost:8080/",
          "height": 101
        },
        "outputId": "94760884-0ca2-47cf-bffc-c9d741769c31"
      },
      "source": [
        "from array import *\n",
        "\n",
        "array1 = array('i',[10,15,20,25,30])\n",
        "\n",
        "# Prints all the elements (Traversing)\n",
        "for x in array1: \n",
        "  print(x)"
      ],
      "execution_count": 8,
      "outputs": [
        {
          "output_type": "stream",
          "text": [
            "10\n",
            "15\n",
            "20\n",
            "25\n",
            "30\n"
          ],
          "name": "stdout"
        }
      ]
    },
    {
      "cell_type": "code",
      "metadata": {
        "id": "j7xWL3tPF-wa",
        "colab_type": "code",
        "colab": {}
      },
      "source": [
        "# Insertion Operation at index 1\n",
        "array1.insert(1,60) "
      ],
      "execution_count": 9,
      "outputs": []
    },
    {
      "cell_type": "code",
      "metadata": {
        "id": "YVoF7l1TF_NA",
        "colab_type": "code",
        "colab": {}
      },
      "source": [
        "# Deleting the element 40\n",
        "array1.remove(20) "
      ],
      "execution_count": 10,
      "outputs": []
    },
    {
      "cell_type": "code",
      "metadata": {
        "id": "yH7DegRFGBQO",
        "colab_type": "code",
        "colab": {
          "base_uri": "https://localhost:8080/",
          "height": 101
        },
        "outputId": "9f96fcc2-ce00-4f2b-e7de-04ce3566b1e5"
      },
      "source": [
        "# Prints all the elements (Traversing)\n",
        "for x in array1: \n",
        "  print(x)"
      ],
      "execution_count": 11,
      "outputs": [
        {
          "output_type": "stream",
          "text": [
            "10\n",
            "60\n",
            "15\n",
            "25\n",
            "30\n"
          ],
          "name": "stdout"
        }
      ]
    },
    {
      "cell_type": "code",
      "metadata": {
        "id": "tg0hdqDaGDl7",
        "colab_type": "code",
        "colab": {
          "base_uri": "https://localhost:8080/",
          "height": 34
        },
        "outputId": "894bf452-b682-4325-a720-6d3c29a379ee"
      },
      "source": [
        "# Accessing the element at index 1\n",
        "print(array1[1]) "
      ],
      "execution_count": 12,
      "outputs": [
        {
          "output_type": "stream",
          "text": [
            "60\n"
          ],
          "name": "stdout"
        }
      ]
    },
    {
      "cell_type": "code",
      "metadata": {
        "id": "bVGddWI0GFqn",
        "colab_type": "code",
        "colab": {
          "base_uri": "https://localhost:8080/",
          "height": 34
        },
        "outputId": "e84909ab-18ab-40b4-ef95-56b044dde35a"
      },
      "source": [
        "# Search Operation for element 15\n",
        "print(array1.index(15)) "
      ],
      "execution_count": 13,
      "outputs": [
        {
          "output_type": "stream",
          "text": [
            "2\n"
          ],
          "name": "stdout"
        }
      ]
    },
    {
      "cell_type": "code",
      "metadata": {
        "id": "GG9B5CdjGHf2",
        "colab_type": "code",
        "colab": {}
      },
      "source": [
        "# Update Operation at index 2\n",
        "array1[2] = 50"
      ],
      "execution_count": 14,
      "outputs": []
    },
    {
      "cell_type": "code",
      "metadata": {
        "id": "8OP-vqsfGPLi",
        "colab_type": "code",
        "colab": {}
      },
      "source": [
        ""
      ],
      "execution_count": null,
      "outputs": []
    }
  ]
}
