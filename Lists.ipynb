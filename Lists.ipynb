{
  "nbformat": 4,
  "nbformat_minor": 0,
  "metadata": {
    "colab": {
      "name": "Lists.ipynb",
      "provenance": [],
      "authorship_tag": "ABX9TyPpJuaR0dl11GA/rcuddLFh",
      "include_colab_link": true
    },
    "kernelspec": {
      "name": "python3",
      "display_name": "Python 3"
    }
  },
  "cells": [
    {
      "cell_type": "markdown",
      "metadata": {
        "id": "view-in-github",
        "colab_type": "text"
      },
      "source": [
        "<a href=\"https://colab.research.google.com/github/android-kunjapppan/Python-Data-Structures/blob/master/Lists.ipynb\" target=\"_parent\"><img src=\"https://colab.research.google.com/assets/colab-badge.svg\" alt=\"Open In Colab\"/></a>"
      ]
    },
    {
      "cell_type": "markdown",
      "metadata": {
        "id": "AhiBfi2pDuFx",
        "colab_type": "text"
      },
      "source": [
        "# Lists\n",
        "\n",
        "* Lists need not be of the same type\n",
        "* Comma seperated values between square brackets"
      ]
    },
    {
      "cell_type": "code",
      "metadata": {
        "id": "W8fkXoDEDkP-",
        "colab_type": "code",
        "colab": {
          "base_uri": "https://localhost:8080/",
          "height": 50
        },
        "outputId": "cd7af8b9-1338-4158-c731-7b1f21078e23"
      },
      "source": [
        "list1 = ['physics', 'chemistry', 1997, 2000]\n",
        "list2 = [1, 2, 3, 4, 5 ]\n",
        "list3 = [\"a\", \"b\", \"c\", \"d\"]\n",
        "\n",
        "# Accessing values in the lists\n",
        "print(\"list1[0]:\",list1[0])\n",
        "print(\"list2[1:5]:\",list2[1:5])"
      ],
      "execution_count": 17,
      "outputs": [
        {
          "output_type": "stream",
          "text": [
            "list1[0]: physics\n",
            "list2[1:5]: [2, 3, 4, 5]\n"
          ],
          "name": "stdout"
        }
      ]
    },
    {
      "cell_type": "code",
      "metadata": {
        "id": "8OP-vqsfGPLi",
        "colab_type": "code",
        "colab": {
          "base_uri": "https://localhost:8080/",
          "height": 34
        },
        "outputId": "7c94efed-6ab7-45be-cf2d-5dd4b5bf7f34"
      },
      "source": [
        "# Updating Lists\n",
        "list1[0] = 2001\n",
        "print(\"list1[0]\",list1[0])"
      ],
      "execution_count": 18,
      "outputs": [
        {
          "output_type": "stream",
          "text": [
            "list1[0] 2001\n"
          ],
          "name": "stdout"
        }
      ]
    },
    {
      "cell_type": "code",
      "metadata": {
        "id": "_1eQVnzdJBx4",
        "colab_type": "code",
        "colab": {
          "base_uri": "https://localhost:8080/",
          "height": 34
        },
        "outputId": "55f0b4aa-74d0-460e-ffea-2409d17d80c0"
      },
      "source": [
        "# Deleting List elements\n",
        "del list1[2]\n",
        "\n",
        "print(list1)"
      ],
      "execution_count": 19,
      "outputs": [
        {
          "output_type": "stream",
          "text": [
            "[2001, 'chemistry', 2000]\n"
          ],
          "name": "stdout"
        }
      ]
    },
    {
      "cell_type": "markdown",
      "metadata": {
        "id": "nP0EOydpJPRz",
        "colab_type": "text"
      },
      "source": [
        "# Basic List Operations"
      ]
    },
    {
      "cell_type": "code",
      "metadata": {
        "id": "w4Ab3WooJLiz",
        "colab_type": "code",
        "colab": {
          "base_uri": "https://localhost:8080/",
          "height": 168
        },
        "outputId": "d4b9e320-fdc6-480d-ac97-3c2c759a7e67"
      },
      "source": [
        "# Length\n",
        "print('length',len(list1))\n",
        "\n",
        "# Concatenation\n",
        "print(list1+list2)\n",
        "\n",
        "# Repetetion\n",
        "list4 = ['HI']\n",
        "print(list4*4)\n",
        "\n",
        "# Membership\n",
        "print(3 in list2) # returns true if 3 is present in list2\n",
        "\n",
        "# Iteration (prints all the elements in the list)\n",
        "for x in list2: \n",
        "  print(x)"
      ],
      "execution_count": 20,
      "outputs": [
        {
          "output_type": "stream",
          "text": [
            "length 3\n",
            "[2001, 'chemistry', 2000, 1, 2, 3, 4, 5]\n",
            "['HI', 'HI', 'HI', 'HI']\n",
            "True\n",
            "1\n",
            "2\n",
            "3\n",
            "4\n",
            "5\n"
          ],
          "name": "stdout"
        }
      ]
    }
  ]
}