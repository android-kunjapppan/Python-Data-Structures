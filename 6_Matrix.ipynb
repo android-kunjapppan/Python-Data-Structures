{
  "nbformat": 4,
  "nbformat_minor": 0,
  "metadata": {
    "colab": {
      "name": "6 Matrix.ipynb",
      "provenance": [],
      "authorship_tag": "ABX9TyPTgr0NlKoaHuZoIzBwhzQJ",
      "include_colab_link": true
    },
    "kernelspec": {
      "name": "python3",
      "display_name": "Python 3"
    }
  },
  "cells": [
    {
      "cell_type": "markdown",
      "metadata": {
        "id": "view-in-github",
        "colab_type": "text"
      },
      "source": [
        "<a href=\"https://colab.research.google.com/github/android-kunjapppan/Python-Data-Structures/blob/master/6_Matrix.ipynb\" target=\"_parent\"><img src=\"https://colab.research.google.com/assets/colab-badge.svg\" alt=\"Open In Colab\"/></a>"
      ]
    },
    {
      "cell_type": "markdown",
      "metadata": {
        "id": "h2WAeNf4UIyY",
        "colab_type": "text"
      },
      "source": [
        "# Matrix\n",
        "* special case of 2D array where each data element is of strictly of same size.\n",
        "* So, every matrix is a 2D array but not vice versa.\n",
        "* we can also 'NumPy' package for matrix data manipulation\n"
      ]
    },
    {
      "cell_type": "code",
      "metadata": {
        "id": "7F_ALl3_UKCu",
        "colab_type": "code",
        "colab": {
          "base_uri": "https://localhost:8080/",
          "height": 151
        },
        "outputId": "537a6a72-bec4-44bc-ade5-5435c94797d7"
      },
      "source": [
        "from numpy import *\n",
        "\n",
        "a = array([['Mon',18,20,22,17],['Tue',11,18,21,18],\n",
        "\t\t   ['Wed',15,21,20,19],['Thu',11,20,22,21],\n",
        "\t\t   ['Fri',18,17,23,22],['Sat',12,22,20,18],\n",
        "\t\t   ['Sun',13,15,19,16]])\n",
        "\n",
        "m = reshape(a,(7,5))\n",
        "print(m.shape)\n",
        "print(m)"
      ],
      "execution_count": 54,
      "outputs": [
        {
          "output_type": "stream",
          "text": [
            "(7, 5)\n",
            "[['Mon' '18' '20' '22' '17']\n",
            " ['Tue' '11' '18' '21' '18']\n",
            " ['Wed' '15' '21' '20' '19']\n",
            " ['Thu' '11' '20' '22' '21']\n",
            " ['Fri' '18' '17' '23' '22']\n",
            " ['Sat' '12' '22' '20' '18']\n",
            " ['Sun' '13' '15' '19' '16']]\n"
          ],
          "name": "stdout"
        }
      ]
    },
    {
      "cell_type": "code",
      "metadata": {
        "id": "NcgGaKBkVPgt",
        "colab_type": "code",
        "colab": {
          "base_uri": "https://localhost:8080/",
          "height": 50
        },
        "outputId": "5cf5c288-186e-44bf-9f05-ae0add903955"
      },
      "source": [
        "# Accessing values in a matrix (same as 2D array)\n",
        "\n",
        "print(m[2])\n",
        "\n",
        "print(m[4][3])\n"
      ],
      "execution_count": 55,
      "outputs": [
        {
          "output_type": "stream",
          "text": [
            "['Wed' '15' '21' '20' '19']\n",
            "23\n"
          ],
          "name": "stdout"
        }
      ]
    },
    {
      "cell_type": "code",
      "metadata": {
        "id": "j2xp78xIVxrJ",
        "colab_type": "code",
        "colab": {
          "base_uri": "https://localhost:8080/",
          "height": 151
        },
        "outputId": "e59d72dc-b5b1-4dc3-a77a-ac1122b25b0c"
      },
      "source": [
        "# Adding a ROW using append statement\n",
        "# numpy.append(arr, values, axis) axis= 0->row, 1->col\n",
        "m_r = append(m,[['Avg',12,15,13,11]],0)\n",
        "\n",
        "print(m_r)"
      ],
      "execution_count": 56,
      "outputs": [
        {
          "output_type": "stream",
          "text": [
            "[['Mon' '18' '20' '22' '17']\n",
            " ['Tue' '11' '18' '21' '18']\n",
            " ['Wed' '15' '21' '20' '19']\n",
            " ['Thu' '11' '20' '22' '21']\n",
            " ['Fri' '18' '17' '23' '22']\n",
            " ['Sat' '12' '22' '20' '18']\n",
            " ['Sun' '13' '15' '19' '16']\n",
            " ['Avg' '12' '15' '13' '11']]\n"
          ],
          "name": "stdout"
        }
      ]
    },
    {
      "cell_type": "code",
      "metadata": {
        "id": "nAmsBObFWMSZ",
        "colab_type": "code",
        "colab": {
          "base_uri": "https://localhost:8080/",
          "height": 134
        },
        "outputId": "ff13e83c-29c5-481b-b8b0-470a177fdc30"
      },
      "source": [
        "# Adding a COLUMN usong INSERT statement\n",
        "# numpy.insert(arr, index, values, axis)\n",
        "\n",
        "m_c = insert(m,[3],[[1],[2],[3],[4],[5],[6],[7]],1)\n",
        "print(m_c)"
      ],
      "execution_count": 58,
      "outputs": [
        {
          "output_type": "stream",
          "text": [
            "[['Mon' '18' '20' '1' '22' '17']\n",
            " ['Tue' '11' '18' '2' '21' '18']\n",
            " ['Wed' '15' '21' '3' '20' '19']\n",
            " ['Thu' '11' '20' '4' '22' '21']\n",
            " ['Fri' '18' '17' '5' '23' '22']\n",
            " ['Sat' '12' '22' '6' '20' '18']\n",
            " ['Sun' '13' '15' '7' '19' '16']]\n"
          ],
          "name": "stdout"
        }
      ]
    },
    {
      "cell_type": "code",
      "metadata": {
        "id": "mMmzgn3VXgW1",
        "colab_type": "code",
        "colab": {
          "base_uri": "https://localhost:8080/",
          "height": 118
        },
        "outputId": "2a7c2c4d-efb8-409c-adcd-a2048ce4323f"
      },
      "source": [
        "# Delete a row form a Matrix\n",
        "\n",
        "m = delete(m,[2],0) # will delete entire row in the index 2\n",
        "print(m) "
      ],
      "execution_count": 59,
      "outputs": [
        {
          "output_type": "stream",
          "text": [
            "[['Mon' '18' '20' '22' '17']\n",
            " ['Tue' '11' '18' '21' '18']\n",
            " ['Thu' '11' '20' '22' '21']\n",
            " ['Fri' '18' '17' '23' '22']\n",
            " ['Sat' '12' '22' '20' '18']\n",
            " ['Sun' '13' '15' '19' '16']]\n"
          ],
          "name": "stdout"
        }
      ]
    },
    {
      "cell_type": "code",
      "metadata": {
        "id": "AfQ_CFeeXxcd",
        "colab_type": "code",
        "colab": {
          "base_uri": "https://localhost:8080/",
          "height": 118
        },
        "outputId": "4744f218-01d1-48cb-cb41-cae5c4730b77"
      },
      "source": [
        "# Delete a column from a matrix\n",
        "\n",
        "m = delete(m,[2],1)\n",
        "print(m)"
      ],
      "execution_count": 60,
      "outputs": [
        {
          "output_type": "stream",
          "text": [
            "[['Mon' '18' '22' '17']\n",
            " ['Tue' '11' '21' '18']\n",
            " ['Thu' '11' '22' '21']\n",
            " ['Fri' '18' '23' '22']\n",
            " ['Sat' '12' '20' '18']\n",
            " ['Sun' '13' '19' '16']]\n"
          ],
          "name": "stdout"
        }
      ]
    },
    {
      "cell_type": "code",
      "metadata": {
        "id": "_P_77l7PYFgA",
        "colab_type": "code",
        "colab": {
          "base_uri": "https://localhost:8080/",
          "height": 118
        },
        "outputId": "d35311d0-1d15-460e-9a18-99a2d2b615cf"
      },
      "source": [
        "# update a row in a matrix\n",
        "\n",
        "m[3] = ['Thurs',0,0,0]\n",
        "print(m)"
      ],
      "execution_count": 62,
      "outputs": [
        {
          "output_type": "stream",
          "text": [
            "[['Mon' '18' '22' '17']\n",
            " ['Tue' '11' '21' '18']\n",
            " ['Thu' '11' '22' '21']\n",
            " ['Thu' '0' '0' '0']\n",
            " ['Sat' '12' '20' '18']\n",
            " ['Sun' '13' '19' '16']]\n"
          ],
          "name": "stdout"
        }
      ]
    }
  ]
}