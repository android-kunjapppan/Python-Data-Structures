{
  "nbformat": 4,
  "nbformat_minor": 0,
  "metadata": {
    "colab": {
      "name": "8 Maps.ipynb",
      "provenance": [],
      "authorship_tag": "ABX9TyO7OR/rnlIILey3+eYfOYYU",
      "include_colab_link": true
    },
    "kernelspec": {
      "name": "python3",
      "display_name": "Python 3"
    }
  },
  "cells": [
    {
      "cell_type": "markdown",
      "metadata": {
        "id": "view-in-github",
        "colab_type": "text"
      },
      "source": [
        "<a href=\"https://colab.research.google.com/github/android-kunjapppan/Python-Data-Structures/blob/master/8_Maps.ipynb\" target=\"_parent\"><img src=\"https://colab.research.google.com/assets/colab-badge.svg\" alt=\"Open In Colab\"/></a>"
      ]
    },
    {
      "cell_type": "markdown",
      "metadata": {
        "id": "Q7zPkIG_N6_g",
        "colab_type": "text"
      },
      "source": [
        "# Maps:\n",
        "* Is also called ChainMap is a type of data structure to manage multiple dictionaries together as one unit.\n",
        "* The best use of ChainMap is to search through multiple dictionaries at a time.\n",
        "* Behaves as a Stack Data Structure\n",
        "* ChainMap is from collections Library.\n",
        "* If there are Duplicate Keys, Only the value from the first key is preserved.\n"
      ]
    },
    {
      "cell_type": "code",
      "metadata": {
        "id": "-JQV56udN74G",
        "colab_type": "code",
        "colab": {
          "base_uri": "https://localhost:8080/",
          "height": 87
        },
        "outputId": "0b81e694-2ab0-4025-f43f-5d5ffb4878fb"
      },
      "source": [
        "import collections\n",
        "\n",
        "dict1={'day1':'Mon','day2':'Tue'}\n",
        "dict2={'day3':'Wed','day1':'Thu'}\n",
        "\n",
        "# ChainMap\n",
        "res= collections.ChainMap(dict1,dict2)\n",
        "\n",
        "print(res.maps)\n",
        "print()\n",
        "\n",
        "print(\"Keys={}\".format(list(res.keys())))\n",
        "print(\"Values={}\".format(list(res.values())))"
      ],
      "execution_count": 16,
      "outputs": [
        {
          "output_type": "stream",
          "text": [
            "[{'day1': 'Mon', 'day2': 'Tue'}, {'day3': 'Wed', 'day1': 'Thu'}]\n",
            "\n",
            "Keys=['day1', 'day2', 'day3']\n",
            "Values=['Mon', 'Tue', 'Wed']\n"
          ],
          "name": "stdout"
        }
      ]
    },
    {
      "cell_type": "code",
      "metadata": {
        "id": "_0-6xOVpPKlI",
        "colab_type": "code",
        "colab": {
          "base_uri": "https://localhost:8080/",
          "height": 69
        },
        "outputId": "a8651812-7a92-47b9-b44b-361fd825282a"
      },
      "source": [
        "# print all the elements ih the result dict\n",
        "for key, value in res.items():\n",
        "  print(\"{} = {}\".format(key,value))"
      ],
      "execution_count": 17,
      "outputs": [
        {
          "output_type": "stream",
          "text": [
            "day1 = Mon\n",
            "day2 = Tue\n",
            "day3 = Wed\n"
          ],
          "name": "stdout"
        }
      ]
    },
    {
      "cell_type": "markdown",
      "metadata": {
        "id": "u6OVZ0SaQs1f",
        "colab_type": "text"
      },
      "source": [
        "# Map Reordering\n",
        "* if we change the order, then positioning of elements will also change"
      ]
    },
    {
      "cell_type": "code",
      "metadata": {
        "id": "3EsvQPI4QSTy",
        "colab_type": "code",
        "colab": {
          "base_uri": "https://localhost:8080/",
          "height": 52
        },
        "outputId": "58f02c9d-93f1-4d38-bcd0-3fdccca397b4"
      },
      "source": [
        "dict1={'day1':'Mon','day2':'Tue'}\n",
        "dict2={'day3':'Wed','day4':'Thu'}\n",
        "\n",
        "res1= collections.ChainMap(dict2,dict1)\n",
        "print(res1.maps)\n",
        "\n",
        "# Changing the Order\n",
        "res2= collections.ChainMap(dict1,dict2)\n",
        "print(res2.maps)\n",
        "\n"
      ],
      "execution_count": 19,
      "outputs": [
        {
          "output_type": "stream",
          "text": [
            "[{'day3': 'Wed', 'day4': 'Thu'}, {'day1': 'Mon', 'day2': 'Tue'}]\n",
            "[{'day1': 'Mon', 'day2': 'Tue'}, {'day3': 'Wed', 'day4': 'Thu'}]\n"
          ],
          "name": "stdout"
        }
      ]
    },
    {
      "cell_type": "code",
      "metadata": {
        "id": "kTPAHJ3BRNeX",
        "colab_type": "code",
        "colab": {
          "base_uri": "https://localhost:8080/",
          "height": 52
        },
        "outputId": "e21d206b-900f-4112-e48f-6d60b74de707"
      },
      "source": [
        "# Updating Maps\n",
        "# when the element in the dictionary is changed then instantly the result of ChainMap also gets updated\n",
        "print(res1.maps)\n",
        "dict2['day4']='Fri'\n",
        "\n",
        "print(res1.maps)\n"
      ],
      "execution_count": 20,
      "outputs": [
        {
          "output_type": "stream",
          "text": [
            "[{'day3': 'Wed', 'day4': 'Thu'}, {'day1': 'Mon', 'day2': 'Tue'}]\n",
            "[{'day3': 'Wed', 'day4': 'Fri'}, {'day1': 'Mon', 'day2': 'Tue'}]\n"
          ],
          "name": "stdout"
        }
      ]
    }
  ]
}